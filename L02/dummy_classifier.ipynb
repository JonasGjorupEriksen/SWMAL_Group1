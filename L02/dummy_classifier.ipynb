{
 "cells": [
  {
   "cell_type": "markdown",
   "metadata": {},
   "source": [
    "# SWMAL Exercise\n",
    "\n",
    "## Implementing a dummy binary-classifier with fit-predict interface\n",
    "\n",
    "We begin with the MNIST data-set and will reuse the data loader from Scikit-learn. Next we create a dummy classifier, and compare the results of the SGD and dummy classifiers using the MNIST data...\n",
    "\n",
    "#### Qa  Load and display the MNIST data\n",
    "\n",
    "There is a `sklearn.datasets.fetch_openml` dataloader interface in Scikit-learn. You can load MNIST data like \n",
    "\n",
    "```python\n",
    "from sklearn.datasets import fetch_openml\n",
    "# Load data from https://www.openml.org/d/554\n",
    "X, y = fetch_openml('mnist_784',??) # needs to return X, y, replace '??' with suitable parameters! \n",
    "# Convert to [0;1] via scaling (not always needed)\n",
    "#X = X / 255.\n",
    "```\n",
    "\n",
    "but you need to set parameters like `return_X_y` and `cache` if the default values are not suitable! \n",
    "\n",
    "Check out the documentation for the `fetch_openml` MNIST loader, try it out by loading a (X,y) MNIST data set, and plot a single digit via the `MNIST_PlotDigit` function here (input data is a 28x28 NMIST subimage)\n",
    "\n",
    "```python\n",
    "%matplotlib inline\n",
    "def MNIST_PlotDigit(data):\n",
    "    import matplotlib\n",
    "    import matplotlib.pyplot as plt\n",
    "    image = data.reshape(28, 28)\n",
    "    plt.imshow(image, cmap = matplotlib.cm.binary, interpolation=\"nearest\")\n",
    "    plt.axis(\"off\")\n",
    "```\n",
    "\n",
    "Finally, put the MNIST loader into a single function called `MNIST_GetDataSet()` so you can reuse it later."
   ]
  },
  {
   "cell_type": "code",
   "execution_count": 33,
   "metadata": {},
   "outputs": [
    {
     "data": {
      "image/png": "[encoded data removed]",
      "text/plain": [
       "<Figure size 640x480 with 1 Axes>"
      ]
     },
     "metadata": {},
     "output_type": "display_data"
    },
    {
     "name": "stdout",
     "output_type": "stream",
     "text": [
      "(70000, 784)\n"
     ]
    }
   ],
   "source": [
    "import matplotlib.pyplot as plt\n",
    "from sklearn.datasets import fetch_openml\n",
    "\n",
    "# Function to plot an MNIST digit\n",
    "def MNIST_PlotDigit(data):\n",
    "    import matplotlib\n",
    "    image = data.reshape(28, 28)\n",
    "    plt.imshow(image, cmap=matplotlib.cm.binary, interpolation=\"nearest\")\n",
    "    plt.axis(\"off\")\n",
    "    plt.show()\n",
    "\n",
    "# Function to load MNIST dataset\n",
    "def MNIST_GetDataSet():\n",
    "    # Load data from https://www.openml.org/d/554\n",
    "    X, y = fetch_openml('mnist_784', version=1, return_X_y=True, as_frame=False, cache=True)\n",
    "    X = X / 255.0  # Scale pixel values to [0, 1]\n",
    "    return X, y\n",
    "\n",
    "# Load the dataset\n",
    "X, y = MNIST_GetDataSet()\n",
    "\n",
    "# Plot a single digit. The first one in the dataset\n",
    "MNIST_PlotDigit(X[2])\n",
    "\n",
    "print(X.shape)\n"
   ]
  },
  {
   "cell_type": "markdown",
   "metadata": {},
   "source": [
    "#### Qb  Add a Stochastic Gradient Decent [SGD] Classifier\n",
    "\n",
    "Create a train-test data-set for MNIST and then add the `SGDClassifier` as done in [HOML], p.103.\n",
    "\n",
    "Split your data and run the fit-predict for the classifier using the MNIST data.(We will be looking at cross-validation instead of the simple fit-predict in a later exercise.)\n",
    "\n",
    "Notice that you have to reshape the MNIST X-data to be able to use the classifier. It may be a 3D array, consisting of 70000 (28 x 28) images, or just a 2D array consisting of 70000 elements of size 784.\n",
    "\n",
    "A simple `reshape()` could fix this on-the-fly:\n",
    "```python\n",
    "X, y = MNIST_GetDataSet()\n",
    "\n",
    "print(f\"X.shape={X.shape}\") # print X.shape= (70000, 28, 28)\n",
    "if X.ndim==3:\n",
    "    print(\"reshaping X..\")\n",
    "    assert y.ndim==1\n",
    "    X = X.reshape((X.shape[0],X.shape[1]*X.shape[2]))\n",
    "assert X.ndim==2\n",
    "print(f\"X.shape={X.shape}\") # X.shape= (70000, 784)\n",
    "```\n",
    "\n",
    "Remember to use the category-5 y inputs\n",
    "\n",
    "```python\n",
    "y_train_5 = (y_train == '5')    \n",
    "y_test_5  = (y_test == '5')\n",
    "```\n",
    "instead of the `y`'s you are getting out of the dataloader. In effect, we have now created a binary-classifier, that enable us to classify a particular data sample, $\\mathbf{x}(i)$ (that is a 28x28 image), as being a-class-5 or not-a-class-5. \n",
    "\n",
    "Test your model on using the test data, and try to plot numbers that have been categorized correctly. Then also find and plots some misclassified numbers."
   ]
  },
  {
   "cell_type": "code",
   "execution_count": 66,
   "metadata": {},
   "outputs": [
    {
     "name": "stdout",
     "output_type": "stream",
     "text": [
      "X.shape=(70000, 784)\n",
      "X.shape=(70000, 784)\n",
      "the ones where we have quessed true\n",
      "y_pred: False y_test 7\n",
      "True Negative0\n",
      "y_pred: False y_test 2\n",
      "True Negative1\n",
      "y_pred: False y_test 1\n",
      "True Negative2\n",
      "y_pred: False y_test 0\n",
      "True Negative3\n",
      "y_pred: False y_test 4\n",
      "True Negative4\n",
      "y_pred: False y_test 1\n",
      "True Negative5\n",
      "y_pred: False y_test 4\n",
      "True Negative6\n",
      "y_pred: False y_test 9\n",
      "True Negative7\n",
      "y_pred: False y_test 9\n",
      "True Negative9\n",
      "y_pred: True y_test 5\n",
      "True Positive15\n",
      "y_pred: True y_test 5\n",
      "True Positive23\n",
      "y_pred: True y_test 5\n",
      "True Positive45\n"
     ]
    },
    {
     "data": {
      "image/png": "[encoded data removed]",
      "text/plain": [
       "<Figure size 640x480 with 1 Axes>"
      ]
     },
     "metadata": {},
     "output_type": "display_data"
    },
    {
     "data": {
      "image/png": "[encoded data removed]",
      "text/plain": [
       "<Figure size 640x480 with 1 Axes>"
      ]
     },
     "metadata": {},
     "output_type": "display_data"
    }
   ],
   "source": [
    "from sklearn.linear_model import SGDClassifier\n",
    "from sklearn.model_selection import cross_val_score\n",
    "\n",
    "# load the data\n",
    "X, y = MNIST_GetDataSet()\n",
    "\n",
    "# reshape if needed\n",
    "print(f\"X.shape={X.shape}\") # print X.shape= (70000, 28, 28)\n",
    "if X.ndim==3:\n",
    "    print(\"reshaping X..\")\n",
    "    assert y.ndim==1\n",
    "    X = X.reshape((X.shape[0],X.shape[1]*X.shape[2]))\n",
    "assert X.ndim==2\n",
    "print(f\"X.shape={X.shape}\") # X.shape= (70000, 784)\n",
    "\n",
    "# split data set\n",
    "X_train, X_test, y_train, y_test = X[:60000], X[60000:], y[:60000], y[60000:]\n",
    "\n",
    "# What are we looking fore\n",
    "y_train_5 = (y_train == '5') # True for all 5s, False for all other digits\n",
    "y_test_5 = (y_test == '5')\n",
    "\n",
    "# Train\n",
    "sgd_clf = SGDClassifier(random_state=42)\n",
    "sgd_clf.fit(X_train, y_train_5)\n",
    "\n",
    "# Test\n",
    "y_pred = sgd_clf.predict(X_test)\n",
    "\n",
    "# Score\n",
    "#identify the correct answers\n",
    "print(\"the ones where we have quessed true\")\n",
    "for i in range(10):\n",
    "    if y_pred[i] == False and y_test_5[i] == False:\n",
    "        print(f\"y_pred: {y_pred[i]} y_test {y_test[i]}\")\n",
    "        print(f\"True Negative{i}\")\n",
    "\n",
    "for i in range(50):\n",
    "    if y_pred[i] == True and y_test_5[i] == True:\n",
    "        print(f\"y_pred: {y_pred[i]} y_test {y_test[i]}\")\n",
    "        print(f\"True Positive{i}\")\n",
    "\n",
    "MNIST_PlotDigit(X_test[7])\n",
    "MNIST_PlotDigit(X_test[15])\n",
    "\n"
   ]
  },
  {
   "cell_type": "code",
   "execution_count": 74,
   "metadata": {},
   "outputs": [
    {
     "name": "stdout",
     "output_type": "stream",
     "text": [
      "y_pred: False y_test 5\n",
      "false negative 8\n",
      "y_pred: False y_test 5\n",
      "false negative 153\n",
      "y_pred: False y_test 5\n",
      "false negative 211\n",
      "y_pred: True y_test 3\n",
      " false positive245\n",
      "y_pred: False y_test 5\n",
      "false negative 340\n",
      "y_pred: False y_test 5\n",
      "false negative 352\n",
      "y_pred: False y_test 5\n",
      "false negative 406\n",
      "y_pred: False y_test 5\n",
      "false negative 460\n",
      "y_pred: False y_test 5\n",
      "false negative 469\n",
      "y_pred: False y_test 5\n",
      "false negative 478\n",
      "y_pred: False y_test 5\n",
      "false negative 502\n",
      "y_pred: True y_test 3\n",
      " false positive569\n",
      "y_pred: False y_test 5\n",
      "false negative 645\n",
      "y_pred: False y_test 5\n",
      "false negative 674\n",
      "y_pred: False y_test 5\n",
      "false negative 720\n",
      "y_pred: False y_test 5\n",
      "false negative 751\n",
      "y_pred: False y_test 5\n",
      "false negative 791\n",
      "y_pred: False y_test 5\n",
      "false negative 857\n",
      "y_pred: True y_test 3\n",
      " false positive938\n",
      "y_pred: False y_test 5\n",
      "false negative 955\n",
      "y_pred: False y_test 5\n",
      "false negative 970\n"
     ]
    },
    {
     "data": {
      "image/png": "[encoded data removed]",
      "text/plain": [
       "<Figure size 640x480 with 1 Axes>"
      ]
     },
     "metadata": {},
     "output_type": "display_data"
    },
    {
     "data": {
      "image/png": "[encoded data removed]",
      "text/plain": [
       "<Figure size 640x480 with 1 Axes>"
      ]
     },
     "metadata": {},
     "output_type": "display_data"
    },
    {
     "name": "stdout",
     "output_type": "stream",
     "text": [
      "[[9068   40]\n",
      " [ 191  701]]\n"
     ]
    }
   ],
   "source": [
    "from sklearn.metrics import confusion_matrix\n",
    "\n",
    "# identify the falses\n",
    "for i in range(1000):\n",
    "    if y_pred[i] == False and y_test_5[i] == True:\n",
    "        print(f\"y_pred: {y_pred[i]} y_test {y_test[i]}\")\n",
    "        print(f\"false negative {i}\")\n",
    "    \n",
    "    if y_pred[i] == True and y_test_5[i] == False:\n",
    "        print(f\"y_pred: {y_pred[i]} y_test {y_test[i]}\")\n",
    "        print(f\" false positive{i}\")\n",
    "\n",
    "# plotting some the digits it guessed wrong\n",
    "MNIST_PlotDigit(X_test[8])\n",
    "\n",
    "MNIST_PlotDigit(X_test[245])\n",
    "\n",
    "# cross val score from the handbook\n",
    "cross_val_score(sgd_clf, X_train, y_train_5, cv=3, scoring=\"accuracy\")\n",
    "\n",
    "cm = confusion_matrix(y_test_5, y_pred)\n",
    "print(cm)"
   ]
  },
  {
   "cell_type": "markdown",
   "metadata": {},
   "source": [
    "#### Qc Implement a dummy binary classifier\n",
    "\n",
    "Now we will try to create a Scikit-learn compatible estimator implemented via a python class. Follow the code found on p.107 3rd [HOML] (for [HOML] 1. and 2. editions: name you estimator `DummyClassifier` instead of `Never5Classifyer`).\n",
    "\n",
    "Here our Python class knowledge comes into play. The estimator class hierarchy looks like\n",
    "\n",
    "<img src=\"https://itundervisning.ase.au.dk/SWMAL/L02/Figs/class_base_estimator.png\" alt=\"WARNING: could not get image from server.\" style=\"width:500px\">\n",
    "\n",
    "All Scikit-learn classifiers inherit from `BaseEstimator` (and possibly also `ClassifierMixin`), and they must have a `fit-predict` function pair (strangely not in the base class!) and you can actually find the `sklearn.base.BaseEstimator` and `sklearn.base.ClassifierMixin` python source code somewhere in you anaconda install dir, if you should have the nerves to go to such interesting details.\n",
    "\n",
    "But surprisingly you may just want to implement a class that contains the `fit-predict` functions, ___without inheriting___ from the `BaseEstimator`, things still work due to the pythonic 'duck-typing': you just need to have the class implement the needed interfaces, obviously `fit()` and `predict()` but also the more obscure `get_params()` etc....then the class 'looks like' a `BaseEstimator`...and if it looks like an estimator, it _is_ an estimator (aka. duck typing).\n",
    "\n",
    "Templates in C++ also allow the language to use compile-time duck typing!\n",
    "\n",
    "> https://en.wikipedia.org/wiki/Duck_typing\n",
    "\n",
    "Call the fit-predict on a newly instantiated `DummyClassifier` object, and find a way to extract the accuracy `score` from the test data. You may implement an accuracy function yourself or just use the `sklearn.metrics.accuracy_score` function. \n",
    "\n",
    "Finally, compare the accuracy score from your `DummyClassifier` with the scores found in [HOML] \"Measuring Accuracy Using Cross-Validation\", p.107. Are they comparable? \n",
    "\n",
    "(Notice that Scikit-learn now also have a `sklearn.dummy.DummyClassifier`, but you are naturally supposed to create you own...)"
   ]
  },
  {
   "cell_type": "code",
   "execution_count": 83,
   "metadata": {},
   "outputs": [
    {
     "name": "stdout",
     "output_type": "stream",
     "text": [
      "X.shape=(70000, 784)\n",
      "X.shape=(70000, 784)\n",
      "True Positive = 0\n",
      "True negative = 9108\n",
      "False Positive = 0\n",
      "False negative = 892\n"
     ]
    }
   ],
   "source": [
    "from sklearn.base import BaseEstimator\n",
    "from sklearn.base import ClassifierMixin\n",
    "import numpy as np\n",
    "\n",
    "class DummyClassifier(BaseEstimator, ClassifierMixin):\n",
    "    def fit(self, X, y):\n",
    "        pass\n",
    "\n",
    "    def predict(self, X):\n",
    "        assert X.ndim == 2\n",
    "        return np.zeros(X.shape[0],dtype=bool)\n",
    "    \n",
    "\n",
    "# load the data\n",
    "X, y = MNIST_GetDataSet()\n",
    "\n",
    "# reshape if needed\n",
    "print(f\"X.shape={X.shape}\") # print X.shape= (70000, 28, 28)\n",
    "if X.ndim==3:\n",
    "    print(\"reshaping X..\")\n",
    "    assert y.ndim==1\n",
    "    X = X.reshape((X.shape[0],X.shape[1]*X.shape[2]))\n",
    "assert X.ndim==2\n",
    "print(f\"X.shape={X.shape}\") # X.shape= (70000, 784)\n",
    "\n",
    "# split data set\n",
    "X_train, X_test, y_train, y_test = X[:60000], X[60000:], y[:60000], y[60000:]\n",
    "\n",
    "# What are we looking fore\n",
    "y_train_5 = (y_train == '5') # True for all 5s, False for all other digits\n",
    "y_test_5 = (y_test == '5')\n",
    "\n",
    "dummy_clf = DummyClassifier()\n",
    "# Train\n",
    "dummy_clf.fit(X_train, y_train_5)\n",
    "\n",
    "# Test\n",
    "y_pred = dummy_clf.predict(X_test)\n",
    "\n",
    "# Score\n",
    "#identify the correct answers\n",
    "True_Positive = 0\n",
    "True_Negative = 0\n",
    "False_Positive = 0\n",
    "False_Negative = 0\n",
    "\n",
    "for i in range(10000):\n",
    "    if y_pred[i] == False and y_test_5[i] == False:\n",
    "        True_Negative += 1\n",
    "    if y_pred[i] == True and y_test_5[i] == True:\n",
    "        True_Positive += 1\n",
    "    if y_pred[i] == False and y_test_5[i] == True:\n",
    "        False_Negative += 1\n",
    "    if y_pred[i] == True and y_test_5[i] == False:\n",
    "        False_Positive += 1\n",
    "\n",
    "print(f\"True Positive = {True_Positive}\")\n",
    "print(f\"True negative = {True_Negative}\")\n",
    "      \n",
    "print(f\"False Positive = {False_Positive}\")\n",
    "print(f\"False negative = {False_Negative}\")\n",
    "\n"
   ]
  },
  {
   "cell_type": "markdown",
   "metadata": {},
   "source": [
    "### Qd Conclusion\n",
    "\n",
    "Now, conclude on all the exercise above. \n",
    "\n",
    "Write a short textual conclusion (max. 10- to 20-lines) that extract the _essence_ of the exercises: why did you think it was important to look at these particular ML concepts, and what was our overall learning outcome of the exercises (in broad terms)."
   ]
  },
  {
   "cell_type": "code",
   "execution_count": 36,
   "metadata": {},
   "outputs": [],
   "source": [
    "# TODO: Qd concluding remarks in text.."
   ]
  },
  {
   "cell_type": "markdown",
   "metadata": {},
   "source": [
    "REVISIONS||\n",
    ":- | :- |\n",
    "2018-12-19| CEF, initial.\n",
    "2018-02-06| CEF, updated and spell checked.\n",
    "2018-02-08| CEF, minor text update.\n",
    "2018-03-05| CEF, updated with SHN comments.\n",
    "2019-09-02| CEF, updated for ITMAL v2.\n",
    "2019-09-04| CEF, updated and added conclusion Q.\n",
    "2020-01-25| CEF, F20 ITMAL update.\n",
    "2020-02-04| CEF, updated page numbers to HOMLv2.\n",
    "2020-09-03| CEF, E20 ITMAL update, udpated figs paths.\n",
    "2020-09-06| CEF, added alt text.\n",
    "2020-09-18| CEF, added binary-classifier text to Qb to emphasise 5/non-5 classification.\n",
    "2021-01-12| CEF, F21 ITMAL update, moved revision tabel.\n",
    "2021-08-02| CEF, update to E21 ITMAL.\n",
    "2022-01-25| CEF, update to F22 SWMAL.\n",
    "2023-02-07| CEF, update HOML page numbers.\n",
    "2024-02-14| CEF, added note on sklearn.dummy.DummyClassifier.\n",
    "2024-09-13| CEF, updated p.107 and editions text references."
   ]
  }
 ],
 "metadata": {
  "kernelspec": {
   "display_name": "base",
   "language": "python",
   "name": "python3"
  },
  "language_info": {
   "codemirror_mode": {
    "name": "ipython",
    "version": 3
   },
   "file_extension": ".py",
   "mimetype": "text/x-python",
   "name": "python",
   "nbconvert_exporter": "python",
   "pygments_lexer": "ipython3",
   "version": "3.12.7"
  },
  "varInspector": {
   "cols": {
    "lenName": 16,
    "lenType": 16,
    "lenVar": 40
   },
   "kernels_config": {
    "python": {
     "delete_cmd_postfix": "",
     "delete_cmd_prefix": "del ",
     "library": "var_list.py",
     "varRefreshCmd": "print(var_dic_list())"
    },
    "r": {
     "delete_cmd_postfix": ") ",
     "delete_cmd_prefix": "rm(",
     "library": "var_list.r",
     "varRefreshCmd": "cat(var_dic_list()) "
    }
   },
   "position": {
    "height": "144.517px",
    "left": "1230px",
    "right": "20px",
    "top": "119px",
    "width": "350px"
   },
   "types_to_exclude": [
    "module",
    "function",
    "builtin_function_or_method",
    "instance",
    "_Feature"
   ],
   "window_display": true
  }
 },
 "nbformat": 4,
 "nbformat_minor": 2
}
