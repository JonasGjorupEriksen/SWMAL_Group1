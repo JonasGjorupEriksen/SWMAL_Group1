{
 "cells": [
  {
   "cell_type": "markdown",
   "metadata": {},
   "source": [
    "# SWMAL Exercise\n",
    "\n",
    "## Regulizers\n",
    "\n",
    "### Resume of The Linear Regressor\n",
    "\n",
    "For our  data set $X$ and target $\\bytrue$ \n",
    "\n",
    "$$\n",
    "    \\def\\rem#1{}\n",
    "    \\rem{ITMAL: CEF def and LaTeX commands v01, remember: no newlines in defs}\n",
    "    \\rem{MACRO eq: equation <#1:lhs> <#2:rhs>}\n",
    "    \\def\\eq#1#2{#1 &=& #2\\\\}\n",
    "    \\rem{MACRO arr: array <#1:columns (lcr..)> <#2:content>}\n",
    "    \\def\\ar#1#2{\\begin{array}{#1}#2\\end{array}}\n",
    "    \\rem{MACRO ac: array column vector <#1:columns (lcr..)> <#2:content>}\n",
    "    \\def\\ac#1#2{\\left[\\ar{#1}{#2}\\right]}\n",
    "    \\rem{MACRO st: subscript text <#1:content>}\n",
    "    \\def\\st#1{_{\\textrm{#1}}}\n",
    "    \\rem{MACRO norm: norm caligari L <#1:content>}\n",
    "    \\def\\norm#1{{\\cal L}_{#1}}\n",
    "    \\rem{MACRO obs: ??}\n",
    "    \\def\\obs#1#2{#1_{\\textrm{\\scriptsize obs}}^{\\left(#2\\right)}}\n",
    "    \\rem{MACRO diff: math differetial operator <#1:content>}\n",
    "    \\def\\diff#1{\\mathrm{d}#1} \n",
    "    \\rem{MACRO half: shorthand for 1/2}\n",
    "    \\def\\half{\\frac{1}{2}}\n",
    "    \\rem{MACRO pfrac: partial fraction <#1:numenator> <#2:denumenator>}\n",
    "    \\def\\pfrac#1#2{\\frac{\\partial~#1}{\\partial~#2}}\n",
    "    \\rem{MACRO dfrac: differetial operator fraction <#1:numenator> <#2:denumenator>}\n",
    "    \\def\\dfrac#1#2{\\frac{\\mathrm{d}~#1}{\\mathrm{d}#2}}\n",
    "    \\rem{MACRO pown: power and parantesis (train/test..) <#1:content>}\n",
    "    \\def\\pown#1{^{(#1)}}\n",
    "    \\rem{MACROS powi, pown: shorthands for power (i) and (n)}\n",
    "    \\def\\powni{\\pown{i}}\n",
    "    \\def\\pownn{\\pown{n}}\n",
    "    \\rem{MACROS powtest, powertrain: power (test) and (train)}\n",
    "    \\def\\powtest{\\pown{\\textrm{\\scriptsize test}}}\n",
    "    \\def\\powtrain{\\pown{\\textrm{\\scriptsize train}}}\n",
    "    \\rem{MACRO boldmatrix: bold matix/vector notation} \n",
    "    \\def\\boldmatrix#1{\\mathbf{#1}} \n",
    "    \\rem{MACRO M: bold M (used?), def bM mathbf M}\n",
    "    \\rem{MACROS X,Z,x,y,w: bold X,Z,x etc.} \n",
    "    \\def\\bX{\\boldmatrix{X}}\n",
    "    \\def\\bZ{\\boldmatrix{Z}}\n",
    "    \\def\\bx{\\boldmatrix{x}}\n",
    "    \\def\\by{\\boldmatrix{y}}\n",
    "    \\def\\bw{\\boldmatrix{w}}\n",
    "    \\def\\bz{\\boldmatrix{z}}\n",
    "    \\def\\btheta{{\\boldsymbol\\theta}}\n",
    "    \\def\\bSigma{{\\boldsymbol\\Sigma}}\n",
    "    \\rem{MACROS stpred, sttrue: shorthand for subscript 'pred' and 'true'}\n",
    "    \\def\\stpred{\\st{pred}~}\n",
    "    \\def\\sttrue{\\st{true}~}\n",
    "    \\rem{MACROS ypred, ytrue:   shorthand for scalar y 'pred' and 'true'}\n",
    "    \\def\\ytrue{y\\sttrue}\n",
    "    \\def\\ypred{y\\stpred} \n",
    "    \\rem{MACROS bypred, bytrue: shorthand for vecor y 'pred' and 'true'} \n",
    "    \\def\\bypred{\\boldmatrix{y}\\stpred}\n",
    "    \\def\\bytrue{\\boldmatrix{y}\\sttrue} \n",
    "\\bX =\n",
    "        \\ac{cccc}{\n",
    "            x_1\\pown{1} & x_2\\pown{1} & \\cdots & x_d\\pown{1} \\\\\n",
    "            x_1\\pown{2} & x_2\\pown{2} & \\cdots & x_d\\pown{2} \\\\\n",
    "            \\vdots      &             &        & \\vdots      \\\\\n",
    "            x_1\\pownn   & x_2\\pownn   & \\cdots & x_d\\pownn   \\\\\n",
    "        } \n",
    ", ~~~~~~~~\n",
    "\\bytrue =\n",
    "  \\ac{c}{\n",
    "     y\\pown{1}\\sttrue \\\\\n",
    "     y\\pown{2}\\sttrue \\\\\n",
    "     \\vdots           \\\\\n",
    "     y\\pown{n}\\sttrue \\\\\n",
    "  } \n",
    "$$\n",
    "\n",
    "a __linear regressor__ model, with the $d$-dimensional (expressed here without the bias term, $w_0$) weight column vector,\n",
    "\n",
    "$$\n",
    "\\bw =\n",
    "    \\ac{c}{\n",
    "         w_1 \\\\\n",
    "         w_2 \\\\\n",
    "         \\vdots \\\\\n",
    "         w_d \\\\\n",
    "    }\n",
    "$$\n",
    "\n",
    "\n",
    "was previously found to be of the form\n",
    "\n",
    "$$\n",
    "    y\\powni\\stpred =  \\bw^\\top \\bx\\powni\n",
    "$$\n",
    "\n",
    "for a single data instance, or for the full data set in a compact matrix notation \n",
    "\n",
    "$$\n",
    "    \\bypred = \\bX \\bw\n",
    "$$\n",
    "\n",
    "(and rememering to add the bias term $w_0$ on $\\bw$ and correspondingly adding fixed '1'-column in the $\\bX$ matrix, later.) \n",
    "\n",
    "An accociated cost function could be the MSE \n",
    "\n",
    "$$\n",
    "\\ar{rl}{\n",
    "    \\textrm{MSE}(\\bX,\\by;\\bw) &= \\frac{1}{n} \\sum_{i=1}^{n} L\\powni \\\\\n",
    "                              &= \\frac{1}{n} \\sum_{i=1}^{n} \\left( \\bw^\\top\\bx\\powni - y\\powni\\sttrue \\right)^2\\\\\n",
    "                              &\\propto ||\\bX \\bw - \\bytrue ||_2^2\n",
    "}\n",
    "$$                   \n",
    "\n",
    "here using the squared Euclidean norm, $\\norm{2}^2$, via the $||\\cdot||_2^2$ expressions. We used the MSE to express the total cost function, $J$, as\n",
    "\n",
    "$$\n",
    "   \\textrm{MSE} \\propto J = ||\\bX \\bw - \\bytrue||_2^2\n",
    "$$\n",
    "\n",
    "give or take a few constants, like $1/2$ or $1/n$.\n",
    "\n",
    "### Adding Regularization to the Linear Regressor\n",
    "\n",
    "Now the weights, $\\bw$ (previously also known as $\\btheta$), in this model are free to take on any value they like, and this can  lead to both numerical problems and overfitting, if the algorithm decides to drive the weights to insane, humongous values, say $10^{200}$ or similar.\n",
    "\n",
    "Also for some models, neural networks in particular, having weights outside the range -1 to 1 (or 0 to 1) may cause complete saturation of some of the internal non-linear components (the activation function). \n",
    "\n",
    "Now, enters the ___regularization___ of the model: keep the weights at a sane level while doing the numerical gradient descent (GD) in the search space. This can quite simply be done by adding a ___penalty___ part, $\\Omega$, to the $J$ function as\n",
    "\n",
    "$$\n",
    "    \\ar{rl}{\n",
    "        \\tilde{J} &= J + \\alpha \\Omega(\\bw)\\\\\n",
    "                  &= \\frac{1}{n} ||\\bX \\bw - \\bytrue||_2^2 + \\alpha ||\\bw||^2_2\n",
    "     }\n",
    "$$\n",
    "\n",
    "So, the algorithm now has to find an optimal value (minimum of $J$) for both the usual MSE part and for the added penalty scaled with the $\\alpha$ constant.\n",
    "\n",
    "### Regularization and Optimization for Neural Networks (NNs)\n",
    "\n",
    "The regularization method mentioned here is strictly for a linear regression model, but such a model constitutes a major part of the neurons (or perceptrons), used in neural networks. \n",
    "\n",
    "### Qa The Penalty Factor\n",
    "\n",
    "Now, lets examine  what $||\\bw||^2_2$ effectively mean? It is composed of our well-known $\\norm{2}^2$ norm and can also be expressed as simple as\n",
    "\n",
    "$$\n",
    "  ||\\bw||^2_2 = \\bw^\\top\\bw\n",
    "$$\n",
    "\n",
    "Construct a penaltiy function that implements $\\bw^\\top\\bw$, re-using any functions from `numpy` (implementation could be a tiny _one-liner_).\n",
    "\n",
    "Take $w_0$ into account, this weight factor should NOT be included in the norm. Also checkup on `numpy`s `dot` implementation, if you have not done so already: it is a typical pythonic _combo_ function, doing both dot op's (inner product) and matrix multiplication (outer product) dependent on the shape of the input parameters.\n",
    "\n",
    "Then run it on the three test vectors below, and explain when the penalty factor is low and when it is high."
   ]
  },
  {
   "cell_type": "code",
   "execution_count": 15,
   "metadata": {},
   "outputs": [
    {
     "name": "stdout",
     "output_type": "stream",
     "text": [
      "OK(setup..)\n"
     ]
    }
   ],
   "source": [
    "# Qa..first define some numeric helper functions for the test-vectors..\n",
    "\n",
    "import numpy as np\n",
    "import collections\n",
    "\n",
    "def isFloat(x):\n",
    "    # is there a python single/double float??\n",
    "    return isinstance(x, float) or isinstance(x, np.float32) or isinstance(x, np.float64)\n",
    "    # NOT defined on Windows?:   or isinstance(x, np.float128)      \n",
    "\n",
    "# Checks that a 'float' is 'sane' (original from libitmal)\n",
    "def CheckFloat(x, checkrange=False, xmin=1E-200, xmax=1E200, verbose=0):\n",
    "    if verbose>1:\n",
    "        print(f\"CheckFloat({x}, type={type(x)}\")\n",
    "    if isinstance(x, collections.abc.Iterable):\n",
    "        for i in x:\n",
    "            CheckFloat(i, checkrange=checkrange, xmin=xmin, xmax=xmax, verbose=verbose)\n",
    "    else:\n",
    "        #if (isinstance(x,int)):\n",
    "        #    print(\"you gave me an integer, that was ignored\")\n",
    "        #    return\n",
    "        assert isFloat(x), f\"x={x} is not a float/float64/numpy.float32/64/128, but a {type(x)}\"\n",
    "        assert np.isnan(x)==False , \"x is NAN\"\n",
    "        assert np.isinf(x)==False , \"x is inf\"\n",
    "        assert np.isinf(-x)==False, \"x is -inf\"\n",
    "        # NOTE: missing test for denormalized float\n",
    "        if checkrange:\n",
    "            z=fabs(x)\n",
    "            assert z>=xmin, f\"abs(x)={z} is smaller that expected min value={xmin}\"\n",
    "            assert z<=xmax, f\"abs(x)={z} is larger that expected max value={xmax}\"\n",
    "        if verbose>0:\n",
    "             print(f\"CheckFloat({x}, type={x} => OK\")\n",
    "\n",
    "# Checks that two 'floats' are 'close' (original from libitmal)\n",
    "def CheckInRange(x, expected, eps=1E-9, autoconverttofloat=True, verbose=0):\n",
    "    assert eps>=0, \"eps is less than zero\"\n",
    "    if autoconverttofloat and (not isFloat(x) or not isFloat(expected) or not isFloat(eps)):\n",
    "        if verbose>1:\n",
    "            print(f\"notice: autoconverting x={x} to float..\")\n",
    "        return CheckInRange(1.0*x, 1.0*expected, 1.0*eps, False, verbose)\n",
    "    CheckFloat(x)\n",
    "    CheckFloat(expected)\n",
    "    CheckFloat(eps)\n",
    "    x0 = expected - eps\n",
    "    x1 = expected + eps\n",
    "    ok = x>=x0 and x<=x1\n",
    "    absdiff = np.fabs(x-expected)\n",
    "    if verbose > 0:\n",
    "        print(f\"CheckInRange(x={x}, expected={expected}, eps={eps}: x in [{x0}; {x1}] => {ok}\")\n",
    "    assert ok, f\"x={x} is not within the range [{x0}; {x1}] for eps={eps}, got eps={absdiff}\"\n",
    "\n",
    "print(\"OK(setup..)\")"
   ]
  },
  {
   "cell_type": "code",
   "execution_count": 16,
   "metadata": {},
   "outputs": [
    {
     "name": "stdout",
     "output_type": "stream",
     "text": [
      "P(w0)=13.0\n",
      "P(w1)=9e+20\n",
      "P(w2)=0.13\n",
      "OK\n"
     ]
    }
   ],
   "source": [
    "# TODO: code\n",
    "    \n",
    "def Omega(w):\n",
    "    return np.dot(w[1:].flatten(), w[1:].flatten())\n",
    "\n",
    "# weight vector format: [w_0 w_1 .. w_d], ie. elem. 0 is the 'bias'    \n",
    "w_a = np.array([1., 2., -3.])  \n",
    "w_b = np.array([1E10, -3E10])\n",
    "w_c = np.array([0.1, 0.2, -0.3, 0])\n",
    "\n",
    "p_a = Omega(w_a)\n",
    "p_b = Omega(w_b)\n",
    "p_c = Omega(w_c)\n",
    "\n",
    "print(f\"P(w0)={p_a}\")\n",
    "print(f\"P(w1)={p_b}\")\n",
    "print(f\"P(w2)={p_c}\")\n",
    "\n",
    "# TEST VECTORS\n",
    "e0 = 2*2+(-3)*(-3)\n",
    "e1 = 9e+20\n",
    "e2 = 0.13\n",
    "\n",
    "CheckInRange(p_a, e0)\n",
    "CheckInRange(p_b, e1)\n",
    "CheckInRange(p_c, e2)\n",
    "\n",
    "print(\"OK\")"
   ]
  },
  {
   "cell_type": "markdown",
   "metadata": {},
   "source": [
    "## Adding Regularization for Linear Regression Models\n",
    "\n",
    "Adding the penalty $\\alpha ||\\bw||^2_2$ actually corresponds to the Scikit-learn model `sklearn.linear_model.Ridge` and there are, as usual, a bewildering array of regulized models to choose from in Scikit-learn with exotic names like `Lasso` and `Lars`\n",
    "\n",
    "> https://scikit-learn.org/stable/modules/classes.html#module-sklearn.linear_model\n",
    "\n",
    "Let us just examine `Ridge`, `Lasso` and `ElasticNet` here.\n",
    "\n",
    "### Qb Explain the Ridge Plot\n",
    "\n",
    "First take a peek into the plots (and code) below, that fits the `Ridge`, `Lasso` and `ElasticNet` to a polynomial model. The plots show three fits with different $\\alpha$ values (0, 10$^{-5}$, and 1).\n",
    "\n",
    "First, explain what the different $\\alpha$ does to the actual fitting for the `Ridge` model in the plot."
   ]
  },
  {
   "cell_type": "code",
   "execution_count": 17,
   "metadata": {},
   "outputs": [
    {
     "data": {
      "image/png": "[encoded data removed]",
      "text/plain": [
       "<Figure size 1600x800 with 1 Axes>"
      ]
     },
     "metadata": {},
     "output_type": "display_data"
    },
    {
     "name": "stdout",
     "output_type": "stream",
     "text": [
      "OK(plot)\n"
     ]
    }
   ],
   "source": [
    "# TODO: Qb, just run the code..\n",
    "\n",
    "%matplotlib inline\n",
    "\n",
    "from sklearn.linear_model import LinearRegression, SGDRegressor, Ridge, ElasticNet, Lasso\n",
    "\n",
    "from sklearn.pipeline import Pipeline\n",
    "from sklearn.preprocessing import PolynomialFeatures\n",
    "from sklearn.preprocessing import StandardScaler\n",
    "import matplotlib.pyplot as plt\n",
    "\n",
    "def FitAndPlotModel(name, model_class, X, X_new, y, **model_kargs):\n",
    "    plt.figure(figsize=(16,8))\n",
    "    \n",
    "    alphas=(0, 10**-5, 1) \n",
    "    random_state=42\n",
    "    \n",
    "    for alpha, style in zip(alphas, (\"b-\", \"g--\", \"r:\")):\n",
    "        #print(model_kargs)\n",
    "        model = model_class(alpha, **model_kargs) if alpha > 0 else LinearRegression()\n",
    "        model_pipe = Pipeline([\n",
    "                (\"poly_features\", PolynomialFeatures(degree=12, include_bias=False)),\n",
    "                (\"std_scaler\", StandardScaler()),\n",
    "                (\"regul_reg\", model),\n",
    "            ])\n",
    "            \n",
    "        model_pipe.fit(X, y)\n",
    "        y_new_regul = model_pipe.predict(X_new)\n",
    "        \n",
    "        lw = 2 if alpha > 0 else 1\n",
    "        plt.plot(X_new, y_new_regul, style, linewidth=lw, label=r\"$\\alpha = {}$\".format(alpha))\n",
    "    \n",
    "    plt.plot(X, y, \"b.\", linewidth=3)\n",
    "    plt.legend(loc=\"upper left\", fontsize=15)\n",
    "    plt.xlabel(\"$x_1$\", fontsize=18)\n",
    "    plt.title(name)\n",
    "    plt.axis([0, 3, 0, 4])\n",
    "\n",
    "def GenerateData():\n",
    "    np.random.seed(42)\n",
    "    m = 20\n",
    "    X = 3 * np.random.rand(m, 1)\n",
    "    y = 1 + 0.5 * X + np.random.randn(m, 1) / 1.5\n",
    "    X_new = np.linspace(0, 3, 100).reshape(100, 1)\n",
    "    return X, X_new, y\n",
    "    \n",
    "X, X_new, y = GenerateData()\n",
    "\n",
    "FitAndPlotModel('ridge',      Ridge,        X, X_new, y)\n",
    "#FitAndPlotModel('lasso',      Lasso,        X, X_new, y)\n",
    "#FitAndPlotModel('elasticnet', ElasticNet,   X, X_new, y, l1_ratio=0.1)\n",
    "plt.show()\n",
    "\n",
    "print(\"OK(plot)\")"
   ]
  },
  {
   "cell_type": "markdown",
   "metadata": {},
   "source": [
    "Explain what alpha does to the ridge plot\n",
    "\n",
    "From a mathematical viewpoint it looks like the order of the regression increases as the alpha decreases. but it doesnt go to the most extreme result where it crosses every point. it hist the two first and the two last points and it makes it compromise with the other points.\n",
    "The green line where alpha is 1e-05 looks like the middlepoint between 0 and 1 even tho it is very close to 0 compared to 1."
   ]
  },
  {
   "cell_type": "markdown",
   "metadata": {},
   "source": [
    "### Qc Explain the Ridge, Lasso and ElasticNet Regularization Methods\n",
    "\n",
    "Then explain the different regularization methods used for the `Ridge`, `Lasso` and `ElasticNet` models, by looking at the math formulas for the methods in the Scikit-learn documentation and/or using [HOML]."
   ]
  },
  {
   "cell_type": "code",
   "execution_count": 18,
   "metadata": {},
   "outputs": [
    {
     "data": {
      "text/plain": [
       "sklearn.linear_model._coordinate_descent.ElasticNet"
      ]
     },
     "execution_count": 18,
     "metadata": {},
     "output_type": "execute_result"
    }
   ],
   "source": [
    "Ridge \n",
    "\n",
    "Lasso\n",
    "\n",
    "ElasticNet\n"
   ]
  },
  {
   "cell_type": "markdown",
   "metadata": {},
   "source": [
    "### Qd Regularization and Overfitting\n",
    "\n",
    "Finally, comment on how regularization may be used to reduce a potential tendency to overfit the data\n",
    "\n",
    "Describe the situation with the ___tug-of-war___ between the MSE ($J$) and regulizer ($\\Omega$) terms in $\\tilde{J}$ \n",
    "\n",
    "$$\n",
    "  \\tilde{J} = J + \\alpha \\Omega(\\bw)\\\\\n",
    "$$\n",
    "and the potential problem of $\\bw^*$ being far, far away from the origin, and say for a fixed $\\alpha=1$ in regulizer term (normally for real data $\\alpha \\ll 1$).\n",
    "\n",
    "\n",
    "<img src=\"https://itundervisning.ase.au.dk/SWMAL/L09/Figs/weights_regularization_l2.png\" alt=\"WARNING: could not get image from server.\" style=\"width:240px\">\n",
    "\n",
    "[OPTIONAL]: Would data preprocessing in the form of scaling, standardization or normalization be of any help to that particular situation? If so, describe."
   ]
  },
  {
   "cell_type": "code",
   "execution_count": 19,
   "metadata": {},
   "outputs": [
    {
     "ename": "SyntaxError",
     "evalue": "invalid syntax (3040910771.py, line 2)",
     "output_type": "error",
     "traceback": [
      "\u001b[1;36m  Cell \u001b[1;32mIn[19], line 2\u001b[1;36m\u001b[0m\n\u001b[1;33m    Assert False, \"Explain the tug-of-war..\"\u001b[0m\n\u001b[1;37m           ^\u001b[0m\n\u001b[1;31mSyntaxError\u001b[0m\u001b[1;31m:\u001b[0m invalid syntax\n"
     ]
    }
   ],
   "source": [
    "# TODO: (in text..)\n",
    "Assert False, \"Explain the tug-of-war..\""
   ]
  },
  {
   "cell_type": "markdown",
   "metadata": {},
   "source": [
    "### Qe Regularization Methods for Neural Networks\n",
    "\n",
    "What kinds of regularizations are used for neural network models?\n",
    "\n",
    "Explain the NN-regularizations by giving a shorter textual (or perhaps also a mathematical) explanation of the regularization method.\n",
    "\n",
    "Setup a NN model with one or more of the NN-regularization method you found, showing that the generalization error drops if a particular regularization method is applied.\n",
    "\n",
    "Use some data of your own choice for the demonstration, and also design and setup our own particular NN instantiation (you choose layout and all the other NN-hyperparameters) using either the `sklearn` or `Keras` framework."
   ]
  },
  {
   "cell_type": "code",
   "execution_count": null,
   "metadata": {},
   "outputs": [],
   "source": [
    "# TODO: (in text and code..)\n",
    "Assert False, \"Regularization Methods for Neural Networks..\""
   ]
  },
  {
   "cell_type": "markdown",
   "metadata": {},
   "source": [
    "REVISIONS||\n",
    ":-|:-\n",
    "2018-03-01| CEF, initial.\n",
    "2018-03-06| CEF, updated.\n",
    "2018-03-07| CEF, split Qb into Qb+c+d and added NN comment.\n",
    "2018-03-11| CEF, updated Qa and $w_0$ issues.\n",
    "2018-03-11| CEF, updated Qd with plot and Q.\n",
    "2018-03-11| CEF, clarified $w_0$ issue and update $\\tilde{J}$'s.\n",
    "2019-10-15| CEF, updated for ITMAL E19.\n",
    "2019-10-19| CEF, updated text, added float-check functions.\n",
    "2020-03-23| CEF, updated to ITMAL F20.\n",
    "2020-10-20| CEF, updated to ITMAL E20.\n",
    "2020-10-27| CEF, minor updates.\n",
    "2020-10-28| CEF, made preprocessing optional part of Qq (tug-of-war).\n",
    "2020-03-17| CEF, updated to ITMAL F21.\n",
    "2021-10-31| CEF, updated to ITMAL E21.\n",
    "2022-03-31| CEF, updated to SWMAL F22.\n",
    "2023-03-24| CEF, updated to SWMAL F23, added Qe.\n",
    "2023-09-19| CEF, changed LaTeX mbox and newcommand (VSCode error) to textrm/mathrm and renewcommand.\n",
    "2023-10-02| CEF, changed LaTeX commands to defs to get both KaTeX and MathJax to work."
   ]
  }
 ],
 "metadata": {
  "kernelspec": {
   "display_name": "base",
   "language": "python",
   "name": "python3"
  },
  "language_info": {
   "codemirror_mode": {
    "name": "ipython",
    "version": 3
   },
   "file_extension": ".py",
   "mimetype": "text/x-python",
   "name": "python",
   "nbconvert_exporter": "python",
   "pygments_lexer": "ipython3",
   "version": "3.12.7"
  },
  "varInspector": {
   "cols": {
    "lenName": 16,
    "lenType": 16,
    "lenVar": 40
   },
   "kernels_config": {
    "python": {
     "delete_cmd_postfix": "",
     "delete_cmd_prefix": "del ",
     "library": "var_list.py",
     "varRefreshCmd": "print(var_dic_list())"
    },
    "r": {
     "delete_cmd_postfix": ") ",
     "delete_cmd_prefix": "rm(",
     "library": "var_list.r",
     "varRefreshCmd": "cat(var_dic_list()) "
    }
   },
   "types_to_exclude": [
    "module",
    "function",
    "builtin_function_or_method",
    "instance",
    "_Feature"
   ],
   "window_display": false
  }
 },
 "nbformat": 4,
 "nbformat_minor": 2
}
