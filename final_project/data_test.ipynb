{
 "cells": [
  {
   "cell_type": "markdown",
   "id": "7a8dc4cd",
   "metadata": {},
   "source": [
    "Denne fil bliver brugt til at analysere og kigge på det datasæt vi har valgt at lave vores endelige projekt i. \n",
    "\n"
   ]
  },
  {
   "cell_type": "code",
   "execution_count": 9,
   "id": "ae83e9e7",
   "metadata": {},
   "outputs": [
    {
     "name": "stdout",
     "output_type": "stream",
     "text": [
      "Warning: Looks like you're using an outdated `kagglehub` version (installed: 0.3.8), please consider upgrading to the latest version (0.3.11).\n",
      "Path to dataset files: C:\\Users\\eriks\\.cache\\kagglehub\\datasets\\dsabljic\\movielens-32m\\versions\\1\n",
      "Indhold i mappen ml-32m:\n",
      "['checksums.txt', 'links.csv', 'movies.csv', 'ratings.csv', 'README.txt', 'tags.csv']\n"
     ]
    }
   ],
   "source": [
    "import kagglehub\n",
    "import os\n",
    "import pandas as pd\n",
    "\n",
    "# Download latest version\n",
    "path = kagglehub.dataset_download(\"dsabljic/movielens-32m\")\n",
    "print(\"Path to dataset files:\", path)\n",
    "\n",
    "# List subfolder 'ml-32m'\n",
    "dataset_folder = os.path.join(path, \"ml-32m\")\n",
    "print(\"Indhold i mappen ml-32m:\")\n",
    "print(os.listdir(dataset_folder))\n",
    "\n",
    "# Find en csv-fil i mappen\n",
    "csv_files = [f for f in os.listdir(dataset_folder) if f.endswith('.csv')]\n",
    "\n",
    "\n",
    "\n",
    "# Læs første CSV-fil (bare som eksempel)\n",
    "if csv_files:\n",
    "    links_csv = os.path.join(dataset_folder, csv_files[0])\n",
    "    df = pd.read_csv(links_csv)\n",
    "\n",
    "    movies_csv = os.path.join(dataset_folder, \"movies.csv\")\n",
    "    df_movies = pd.read_csv(movies_csv)\n",
    "\n",
    "    ratings_csv = os.path.join(dataset_folder, \"ratings.csv\")\n",
    "    df_ratings = pd.read_csv(ratings_csv)\n",
    "\n",
    "    tags_csv = os.path.join(dataset_folder, \"tags.csv\")\n",
    "    df_tags = pd.read_csv(tags_csv)\n",
    "    \n",
    "else:\n",
    "    print(\"Ingen CSV-filer fundet i mappen.\")\n"
   ]
  }
 ],
 "metadata": {
  "kernelspec": {
   "display_name": "Python 3",
   "language": "python",
   "name": "python3"
  },
  "language_info": {
   "codemirror_mode": {
    "name": "ipython",
    "version": 3
   },
   "file_extension": ".py",
   "mimetype": "text/x-python",
   "name": "python",
   "nbconvert_exporter": "python",
   "pygments_lexer": "ipython3",
   "version": "3.13.1"
  }
 },
 "nbformat": 4,
 "nbformat_minor": 5
}
