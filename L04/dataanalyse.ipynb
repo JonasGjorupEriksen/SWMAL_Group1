{
 "cells": [
  {
   "cell_type": "markdown",
   "metadata": {},
   "source": [
    "#  SWMAL Opgave\n",
    "\n",
    "## Dataanalyse\n",
    "\n",
    "### Qa) Beskrivelse af datasæt til O4 projekt\n",
    "\n",
    "I kurset er slutprojektet et bærende element, som I forventes at arbejde på igennem hele kurset\n",
    "sideløbende med de forskellige undervisningsemner. \n",
    "\n",
    "I skal selv vælge et O4 projekt–det anbefales at I vælger en problemstilling, hvor der allerede er data til rådighed og en god beskrivelse af data, dataopsamlingsmetode og problemstilling.\n",
    "\n",
    "I denne opgave skal I:\n",
    "\n",
    "* a) Give en kort konceptmæssig projektbeskrivelse af Jeres ide til O4 projekt. \n",
    "\n",
    "Vores ide er at lave et 'movie recommender' system. Til dette har vi fundet et datasæt med over en million forskellige film med følgende atributter id, title, vote_average, vote_count, status, release_date, revenue, runtime, adult and backdrop_path. \n",
    "\n",
    "The idea behind this algoritm is that you give it one or a list of movies where it then gives you a list of recommandations and a procetile of how simular the movies are.\n",
    "\n",
    "\n",
    "* b) Beskrive jeres valgte datasæt med en kort forklaring af baggrund og hvor I har fået data fra.\n",
    "\n",
    "Vi har fundet et datasæt på kaggle.com som hedder 'Full TMBD Movies Dataset 2024 (1M movies)'. Dette er et datasæt der nyt og opdateret til de nyeste relevante film på markedet. Som der selv står i beskrivelsen:\n",
    "\n",
    "The TMDb (The Movie Database) is a comprehensive movie database that provides information about movies, including details like titles, ratings, release dates, revenue, genres, and much more.\n",
    "\n",
    "This dataset contains a collection of 1,000,000 movies from the TMDB database.\n",
    "\n",
    "* c) Beskrive data–dvs. hvilke features, antal samples, target værdier, evt. fejl/usikkerheder, etc.\n",
    "\n",
    "På kaggle har dette dataset fået en usablility score på 10.0 ud af 10 hvilket betyder at den har 100% i Completeness, Credibility, Compatibility. Man kan dele de forskellige features op i nogle kategorier for at forstå dem bedre: \n",
    "\n",
    "Identifikation: Id og title. Disse features kan man bruge til at identifilcere de enkelte film med.\n",
    "\n",
    "Popularitet: Vote_average, vote_count, revenue. Dette er en god indikation på hvor mange der har set filmen og hvad folk synes om den givne film.\n",
    "\n",
    "personal preferences: adult, release_date, duration. Dette er features hvor man nok ville anbefale film hvor disse emner minder om de film man har givet. Hvis det er mange gamle film man har sendt ind vil det nok være bedst at anbefale gamle film.\n",
    "\n",
    "\n",
    "* d) Forklare hvordan I ønsker at anvende datasættet – vil I fx. bruge det til at prædiktere noget\n",
    "bestemt, lave en regression eller klassifikation, el.lign. \n",
    "\n",
    "Vi vil gerne bruge dataen til at prædektere hvilke film en given bruger ville synes godt om ud fra film denne bruger kan lide.\n",
    "\n",
    "I vil nok komme til at anvende data også på andre måder i løbet af undervisningen – men det behøver I ikke nævne. Og det er også ok, hvis I ender med at bruge data på en anden måde end planlagt her.\n",
    "\n",
    "Omfang af beskrivelsen forventes at være 1-2 sider.\n",
    "\n",
    "\n",
    "### Qb) Dataanalyse af eget datasæt\n",
    "\n",
    "Lav data analyse på jeres egne data og projekt.\n",
    "\n",
    "Det indebærer de sædvanlige elementer såsom plotte histogrammer, middelværdi/median/spredning, analysere for outliers/korrupte data, forslag til skalering af data og lignende former for analyse af data.\n",
    "\n",
    "For nogle typer data (fx billed-data), hvor features ikke har en specifik betydning, er det mest\n",
    "histogrammer og lignende, som giver mening – det er helt o.k. \n",
    "\n",
    "\n",
    "#### NOTE vdr. billeddatasæts\n",
    "\n",
    "For billeddata fer hver pixel en feature, og alm. analyse beskrevet ovenfor giver ikke indsigt. Prøv i stedet for billeder at beskrive billedformater (JPEG, PNG osv. / RGB, HSV, gråtone, multispektral, etc.), størrelser af billeder, hvordan de er repræsenteret på disk (dirs osv.)\n",
    "\n",
    "Giv også eksempler på billeder og evt. labels i billedesæt.\n",
    "\n",
    "Histogrammer kan udføres på enkelte billeder, men kun i forbindelse med labelede områder---og bedst på billesæt med ens baggrunde.\n",
    "\n",
    "Benytter i lyddata eller video gælder de samme begrænsinger som får billeder her.\n",
    "\n",
    "### NOTE vdr. valg af datasæt til O4\n",
    "\n",
    "I har frie hænder til at vælge O4 projekt og tilhørende datasæt og valg af datasæt og ide til O4 her er ikke endelig. \n",
    "\n",
    "Dvs. at i løbende kan modificere projektbeskrivelse og, evt. om nødvendigt, vælge et andet datasæt senere, hvis jeres nuværende valg viser sig umuligt (men er en dyr proces). \n",
    "\n",
    "Scope af O4 projekt bør også begrænses, så det passer til kurset og til den '_time-box_'ede aflevering."
   ]
  },
  {
   "cell_type": "markdown",
   "metadata": {},
   "source": [
    "REVISIONS||\n",
    ":-|:-|\n",
    "2021-08-17| CEF, moved from Word to Notebook.\n",
    "2021-11-08| CEF, elaborated on image based data.\n",
    "2022-01-25| CEF, update to F22 SWMAL.\n",
    "2023-02-19| CEF, updated to F23 SWMAL."
   ]
  },
  {
   "cell_type": "code",
   "execution_count": 1,
   "metadata": {},
   "outputs": [
    {
     "name": "stderr",
     "output_type": "stream",
     "text": [
      "c:\\Users\\eriks\\AppData\\Local\\Programs\\Python\\Python313\\Lib\\site-packages\\tqdm\\auto.py:21: TqdmWarning: IProgress not found. Please update jupyter and ipywidgets. See https://ipywidgets.readthedocs.io/en/stable/user_install.html\n",
      "  from .autonotebook import tqdm as notebook_tqdm\n"
     ]
    },
    {
     "name": "stdout",
     "output_type": "stream",
     "text": [
      "Downloading from https://www.kaggle.com/api/v1/datasets/download/asaniczka/tmdb-movies-dataset-2023-930k-movies?dataset_version_number=487...\n"
     ]
    },
    {
     "name": "stderr",
     "output_type": "stream",
     "text": [
      "100%|██████████| 209M/209M [00:08<00:00, 27.0MB/s] "
     ]
    },
    {
     "name": "stdout",
     "output_type": "stream",
     "text": [
      "Extracting files...\n"
     ]
    },
    {
     "name": "stderr",
     "output_type": "stream",
     "text": [
      "\n"
     ]
    },
    {
     "name": "stdout",
     "output_type": "stream",
     "text": [
      "Path to dataset files: C:\\Users\\eriks\\.cache\\kagglehub\\datasets\\asaniczka\\tmdb-movies-dataset-2023-930k-movies\\versions\\487\n"
     ]
    }
   ],
   "source": [
    "import kagglehub\n",
    "\n",
    "# Download latest version\n",
    "path = kagglehub.dataset_download(\"asaniczka/tmdb-movies-dataset-2023-930k-movies\")\n",
    "\n",
    "print(\"Path to dataset files:\", path)"
   ]
  }
 ],
 "metadata": {
  "kernelspec": {
   "display_name": "Python 3",
   "language": "python",
   "name": "python3"
  },
  "language_info": {
   "codemirror_mode": {
    "name": "ipython",
    "version": 3
   },
   "file_extension": ".py",
   "mimetype": "text/x-python",
   "name": "python",
   "nbconvert_exporter": "python",
   "pygments_lexer": "ipython3",
   "version": "3.13.1"
  },
  "varInspector": {
   "cols": {
    "lenName": 16,
    "lenType": 16,
    "lenVar": 40
   },
   "kernels_config": {
    "python": {
     "delete_cmd_postfix": "",
     "delete_cmd_prefix": "del ",
     "library": "var_list.py",
     "varRefreshCmd": "print(var_dic_list())"
    },
    "r": {
     "delete_cmd_postfix": ") ",
     "delete_cmd_prefix": "rm(",
     "library": "var_list.r",
     "varRefreshCmd": "cat(var_dic_list()) "
    }
   },
   "types_to_exclude": [
    "module",
    "function",
    "builtin_function_or_method",
    "instance",
    "_Feature"
   ],
   "window_display": true
  }
 },
 "nbformat": 4,
 "nbformat_minor": 2
}
