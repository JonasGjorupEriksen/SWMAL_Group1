{
 "cells": [
  {
   "cell_type": "markdown",
   "metadata": {},
   "source": [
    "# SWMAL Exercise\n",
    "\n",
    "\n",
    "## Supergruppe diskussion\n",
    "\n",
    "\n",
    "## § 2 \"End-to-End Machine Learning Project\" [HOML]\n",
    "\n",
    "Genlæs kapitel  § 2 og forbered mundtlig præsentation.\n",
    "\n",
    "## Forberedelse inden lektionen\n",
    "\n",
    "Een eller flere af gruppe medlemmer forbereder et mundtligt resume af § 2:\n",
    "\n",
    "* i skal kunne give et kort mundligt resume af hele § 2 til en anden gruppe (på nær, som nævnt, Create the Workspace og Download the Data),\n",
    "\n",
    "* resume holdes til koncept-plan, dvs. prøv at genfortælle, hvad de overordnede linier er i kapitlerne i [HOML].\n",
    "\n",
    "Lav et kort skriftlig resume af de enkelte underafsnit, ca. 5 til 20 liners tekst, se \"TODO\"-template herunder (MUST, til O2 aflevering).\n",
    "\n",
    "Kapitler (incl. underkapitler):\n",
    "\n",
    "* _Look at the Big Picture,_\n",
    "* _Get the Data,_\n",
    "* _Explore and Visualize the Data to Gain Insights,_ \n",
    "* _Prepare the Data for Machine Learning Algorithms,_\n",
    "* _Select and Train a Model,_\n",
    "* _Fine-Tune Your Model,_\n",
    "* _Launch, Monitor, and Maintain Your System,_\n",
    "* (_Try It Out!._  er afslutning af kapitel, skal ikke resumeres).\n",
    "\n",
    "## På klassen\n",
    "\n",
    "Supergruppe [SG] resume af § 2 End-to-End, ca. 30 til 45 min.\n",
    "\n",
    "* en supergruppe [SG], sammensættes af to grupper [G], on-the-fly på klassen,\n",
    "\n",
    "* hver gruppe [G] forbereder og giver en anden gruppe [G] et mundtligt resume af § 2 til en anden gruppe,\n",
    "\n",
    "* tid: ca. 30 mim. sammenlagt, den ene grupper genfortæller første halvdel af § 2 i ca. 15 min., hvorefter den anden gruppe genfortæller resten i ca. 15 min."
   ]
  },
  {
   "cell_type": "markdown",
   "metadata": {},
   "source": [
    "#### Resume: Look at the Big Picture\n",
    "\n",
    "TODO resume..\n",
    "\n",
    "#### Resume: Get the Data\n",
    "\n",
    "TODO resume..\n",
    "\n",
    "#### Resume: Explore and Visualize the Data to Gain Insights,\n",
    "\n",
    "TODO resume..\n",
    "\n",
    "#### Resume: Prepare the Data for Machine Learning Algorithms\n",
    "\n",
    "TODO resume..\n",
    "\n",
    "#### Resume: Select and Train a Model\n",
    "\n",
    "TODO resume..\n",
    "\n",
    "#### Resume: Fine-Tune Your Model\n",
    "\n",
    "TODO resume..\n",
    "\n",
    "#### Resume: Launch, Monitor, and Maintain Your System\n",
    "\n",
    "TODO resume..\n"
   ]
  },
  {
   "cell_type": "markdown",
   "metadata": {},
   "source": [
    "REVISIONS||\n",
    ":- | :- |\n",
    "2019-01-28| CEF, initial.\n",
    "2020-02-05| CEF, F20 ITMAL update.\n",
    "2021-08-17| CEF, E21 ITMAL update.\n",
    "2021-09-17| CEF, corrected some spell errors.\n",
    "2022-01-28| CEF, update to F22 SWMAL.\n",
    "2022-09-09| CEF, corrected 'MUST for O1' to 'MUST for O2' in text.\n",
    "2023-02-13| CEF, updated to HOML 3rd, removed exclude subsections in 'Get the Data' in this excercise, since the parts with python environments has been removed in HOML.\n",
    "2024-02-14| CEF, removed resume of 'Try-it-out'."
   ]
  },
  {
   "cell_type": "markdown",
   "metadata": {},
   "source": [
    "#### Resume: Look at the Big Picture\n",
    "Side (39-45)\n",
    "Første step i machine learning er at kigge på hvad man kan bruge dataen til. Ved at få et overblik over hvilken data man har, og hvad man skal bruge dataen til, kan man nemmere få lavet sin model. I eksemplet i bogen, handler det om boligpriser i USA, og her er vil man gerne kunne forudsige hvad priserne på boligerne kommer til at være, baseret på forskellige parametre som de har data på.\n",
    "Når man har styr på dataen, og hvad man skal have ud af den, kan man begynde at tænke over hvilken måde man vil bruge machine learning, om man bruger supervised, unsupervised eller reinforcement learning. Dertil skal man også finde ud af hvilken model man skal bruge til at kigge på resultaterne.\n",
    "\n",
    "#### Resume: Get the Data\n",
    "Side (50-58)\n",
    "Når man har fat i dataen, kan man begynde at kigge på den data man har fået, for at finde ud af hvilken data man har hentet. I eksemplet bruges DataFrame's \"head\" metode for at kigge på dataen. Først skrives tildeles dataen navnet housing ved at \n",
    "\"housing = load_housing_data ()\" og dataen vises ved at bruge \n",
    "\"head\" - \"housing.head()\"\n",
    "Her viser den dataen som en csv fil, og der er en nem måde at have overblik over sin data.\n",
    "\"Info\" er en anden måde til at tilgå sin data, og denne viser hvilken søtrrelse, og hvilken type data der er. Her kommer der en udfordring i bogen, da \"total_bedrooms\" kun har 20433 instanser, mens de andre datapunkter har 20640. Dette betyder at det ikke er fra alle regioner de har al dataen, og derfor skal det overvejes om dette data skal overvejes. Alt data er numerisk, bortset fra \"ocean_proximty\". For at finde ud af hvilken data det er bruges \"housing[\"ocean_proximity\"].value_counts() til at finde ud af hvad det er for en type data.\n",
    "\"describe()\" er den næste funktion der bruges, som beskriver \"count, mean, std, min, max, 25%, 50%, 75%, max\". Count viser antal af instanser, mean er middel værdien, std beskriver standard deviation. Procent tallene viser at middel alderen på 25% af boligerne er 18 år, hvilket stiger til 29 ved 50%, 37 ved 75% og 52 ved max værdien. Det er også muligt at lave histogrammer, for at visualere dataen.\n",
    "\n"
   ]
  }
 ],
 "metadata": {
  "kernelspec": {
   "display_name": "Python 3 (ipykernel)",
   "language": "python",
   "name": "python3"
  },
  "language_info": {
   "codemirror_mode": {
    "name": "ipython",
    "version": 3
   },
   "file_extension": ".py",
   "mimetype": "text/x-python",
   "name": "python",
   "nbconvert_exporter": "python",
   "pygments_lexer": "ipython3",
   "version": "3.9.12"
  },
  "varInspector": {
   "cols": {
    "lenName": 16,
    "lenType": 16,
    "lenVar": 40
   },
   "kernels_config": {
    "python": {
     "delete_cmd_postfix": "",
     "delete_cmd_prefix": "del ",
     "library": "var_list.py",
     "varRefreshCmd": "print(var_dic_list())"
    },
    "r": {
     "delete_cmd_postfix": ") ",
     "delete_cmd_prefix": "rm(",
     "library": "var_list.r",
     "varRefreshCmd": "cat(var_dic_list()) "
    }
   },
   "types_to_exclude": [
    "module",
    "function",
    "builtin_function_or_method",
    "instance",
    "_Feature"
   ],
   "window_display": false
  }
 },
 "nbformat": 4,
 "nbformat_minor": 2
}
