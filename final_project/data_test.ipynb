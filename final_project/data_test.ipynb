{
 "cells": [
  {
   "cell_type": "code",
   "execution_count": 9,
   "id": "fc22de74",
   "metadata": {},
   "outputs": [
    {
     "name": "stdout",
     "output_type": "stream",
     "text": [
      "Requirement already satisfied: scikit-surprise in c:\\users\\eriks\\anaconda3\\lib\\site-packages (1.1.4)\n",
      "Requirement already satisfied: joblib>=1.2.0 in c:\\users\\eriks\\anaconda3\\lib\\site-packages (from scikit-surprise) (1.4.2)\n",
      "Requirement already satisfied: numpy>=1.19.5 in c:\\users\\eriks\\anaconda3\\lib\\site-packages (from scikit-surprise) (1.26.4)\n",
      "Requirement already satisfied: scipy>=1.6.0 in c:\\users\\eriks\\anaconda3\\lib\\site-packages (from scikit-surprise) (1.13.1)\n"
     ]
    }
   ],
   "source": [
    "!pip install scikit-surprise\n",
    "# %pip install kagglehub"
   ]
  },
  {
   "cell_type": "markdown",
   "id": "7a8dc4cd",
   "metadata": {},
   "source": [
    "Denne fil bliver brugt til at analysere og kigge på det datasæt vi har valgt at lave vores endelige projekt i. \n",
    "\n"
   ]
  },
  {
   "cell_type": "code",
   "execution_count": 10,
   "id": "ae83e9e7",
   "metadata": {},
   "outputs": [
    {
     "name": "stdout",
     "output_type": "stream",
     "text": [
      "Path to dataset files: C:\\Users\\eriks\\.cache\\kagglehub\\datasets\\dsabljic\\movielens-32m\\versions\\1\n",
      "Indhold i mappen ml-32m:\n",
      "['checksums.txt', 'links.csv', 'movies.csv', 'ratings.csv', 'README.txt', 'tags.csv']\n",
      "DataFrame med ratings og movie info:\n",
      "   userId  movieId  rating  timestamp  \\\n",
      "0       1       17     4.0  944249077   \n",
      "1       1       25     1.0  944250228   \n",
      "2       1       29     2.0  943230976   \n",
      "3       1       30     5.0  944249077   \n",
      "4       1       32     5.0  943228858   \n",
      "\n",
      "                                               title  \\\n",
      "0                       Sense and Sensibility (1995)   \n",
      "1                           Leaving Las Vegas (1995)   \n",
      "2  City of Lost Children, The (Cité des enfants p...   \n",
      "3  Shanghai Triad (Yao a yao yao dao waipo qiao) ...   \n",
      "4          Twelve Monkeys (a.k.a. 12 Monkeys) (1995)   \n",
      "\n",
      "                                   genres  \n",
      "0                           Drama|Romance  \n",
      "1                           Drama|Romance  \n",
      "2  Adventure|Drama|Fantasy|Mystery|Sci-Fi  \n",
      "3                             Crime|Drama  \n",
      "4                 Mystery|Sci-Fi|Thriller  \n",
      "Antal rækker i DataFrame: 32000204\n"
     ]
    }
   ],
   "source": [
    "import kagglehub\n",
    "import os\n",
    "import pandas as pd\n",
    "\n",
    "# Download latest version\n",
    "path = kagglehub.dataset_download(\"dsabljic/movielens-32m\")\n",
    "print(\"Path to dataset files:\", path)\n",
    "\n",
    "# List subfolder 'ml-32m'\n",
    "dataset_folder = os.path.join(path, \"ml-32m\")\n",
    "print(\"Indhold i mappen ml-32m:\")\n",
    "print(os.listdir(dataset_folder))\n",
    "\n",
    "# Find en csv-fil i mappen\n",
    "csv_files = [f for f in os.listdir(dataset_folder) if f.endswith('.csv')]\n",
    "\n",
    "\n",
    "\n",
    "# Læs første CSV-fil (bare som eksempel)\n",
    "if csv_files:\n",
    "    links_csv = os.path.join(dataset_folder, csv_files[0])\n",
    "    df_links = pd.read_csv(links_csv)\n",
    "\n",
    "    movies_csv = os.path.join(dataset_folder, \"movies.csv\")\n",
    "    df_movies = pd.read_csv(movies_csv)\n",
    "\n",
    "    ratings_csv = os.path.join(dataset_folder, \"ratings.csv\")\n",
    "    df_ratings = pd.read_csv(ratings_csv)\n",
    "\n",
    "    tags_csv = os.path.join(dataset_folder, \"tags.csv\")\n",
    "    df_tags = pd.read_csv(tags_csv)\n",
    "    \n",
    "else:\n",
    "    print(\"Ingen CSV-filer fundet i mappen.\")\n",
    "\n",
    "# kombiner datafiler til en enkelt DataFrame\n",
    "df = pd.merge(df_ratings, df_movies, on='movieId', how='left')\n",
    "# df = pd.merge(df, df_links, on='movieId', how='left')\n",
    "print(\"DataFrame med ratings og movie info:\")\n",
    "print(df.head())\n",
    "print(\"Antal rækker i DataFrame:\", len(df))\n"
   ]
  },
  {
   "cell_type": "code",
   "execution_count": 12,
   "id": "f26e5e5c",
   "metadata": {},
   "outputs": [
    {
     "name": "stdout",
     "output_type": "stream",
     "text": [
      "RMSE: 0.7717\n",
      "RMSE: 0.7716991458079654\n",
      "MAE:  0.5799\n",
      "MAE: 0.5798519649942866\n",
      "\n",
      "Example predictions:\n",
      "User 157024 → Movie 2949 | True: 3.5 | Predicted: 3.57\n",
      "User 120367 → Movie 6378 | True: 4.5 | Predicted: 4.37\n",
      "User 43797 → Movie 176423 | True: 5.0 | Predicted: 3.64\n",
      "User 29008 → Movie 3202 | True: 4.0 | Predicted: 2.80\n",
      "User 11864 → Movie 3267 | True: 4.0 | Predicted: 3.70\n",
      "User 55714 → Movie 8961 | True: 4.0 | Predicted: 4.10\n",
      "User 126000 → Movie 50 | True: 3.5 | Predicted: 3.99\n",
      "User 183292 → Movie 2770 | True: 2.5 | Predicted: 3.38\n",
      "User 159884 → Movie 1 | True: 4.5 | Predicted: 4.31\n",
      "User 62021 → Movie 1250 | True: 5.0 | Predicted: 4.45\n"
     ]
    }
   ],
   "source": [
    "from surprise import SVD, Dataset, Reader\n",
    "from surprise.model_selection import train_test_split, cross_validate\n",
    "from surprise import accuracy\n",
    "import pandas as pd\n",
    "\n",
    "\n",
    "# Prepare data for Surprise (needs userId, itemId, rating columns)\n",
    "reader = Reader(rating_scale=(0.5, 5.0))\n",
    "data = Dataset.load_from_df(df_ratings[['userId', 'movieId', 'rating']], reader)\n",
    "\n",
    "# Split data into train and test set\n",
    "trainset, testset = train_test_split(data, test_size=0.2, random_state=42)\n",
    "\n",
    "# Define model\n",
    "model = SVD()\n",
    "\n",
    "# Train model\n",
    "model.fit(trainset)\n",
    "\n",
    "# Predict ratings for testset\n",
    "predictions = model.test(testset)\n",
    "\n",
    "# Evaluate performance\n",
    "print(\"RMSE:\", accuracy.rmse(predictions))\n",
    "print(\"MAE:\", accuracy.mae(predictions))\n",
    "\n",
    "# Show some example predictions\n",
    "print(\"\\nExample predictions:\")\n",
    "for pred in predictions[:10]:\n",
    "    print(f\"User {pred.uid} → Movie {pred.iid} | True: {pred.r_ui:.1f} | Predicted: {pred.est:.2f}\")\n"
   ]
  }
 ],
 "metadata": {
  "kernelspec": {
   "display_name": "base",
   "language": "python",
   "name": "python3"
  },
  "language_info": {
   "codemirror_mode": {
    "name": "ipython",
    "version": 3
   },
   "file_extension": ".py",
   "mimetype": "text/x-python",
   "name": "python",
   "nbconvert_exporter": "python",
   "pygments_lexer": "ipython3",
   "version": "3.12.7"
  }
 },
 "nbformat": 4,
 "nbformat_minor": 5
}
