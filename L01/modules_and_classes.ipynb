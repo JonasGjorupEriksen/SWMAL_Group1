{
 "cells": [
  {
   "cell_type": "markdown",
   "metadata": {},
   "source": [
    "# SWMAL Exercise\n",
    "\n",
    "## Python Basics\n",
    "\n",
    "### Modules and Packages in Python\n",
    "\n",
    "Reuse of code in Jupyter notebooks can be done by either including a raw python source as a magic command\n",
    "\n",
    "```python\n",
    "%load filename.py\n",
    "```\n",
    "but this just pastes the source into the notebook and creates all kinds of pains regarding code maintenance.\n",
    "\n",
    "A better way is to use a python __module__. A module consists simply (and pythonic) of a directory with a module init file in it (possibly empty) \n",
    "```python\n",
    "libitmal/__init__.py\n",
    "```\n",
    "To this directory you can add modules in form of plain python files, say\n",
    "```python\n",
    "libitmal/utils.py\n",
    "```\n",
    "That's about it! The `libitmal` file tree should now look like\n",
    "```\n",
    "libitmal/\n",
    "├── __init__.py\n",
    "├── __pycache__\n",
    "│   ├── __init__.cpython-36.pyc\n",
    "│   └── utils.cpython-36.pyc\n",
    "├── utils.py\n",
    "```\n",
    "with the cache part only being present once the module has been initialized.\n",
    "\n",
    "You should now be able to use the `libitmal` unit via an import directive, like\n",
    "```python\n",
    "import numpy as np\n",
    "from libitmal import utils as itmalutils\n",
    "\n",
    "print(dir(itmalutils))\n",
    "print(itmalutils.__file__)\n",
    "\n",
    "X = np.array([[1,2],[3,-100]])\n",
    "itmalutils.PrintMatrix(X,\"mylabel=\")\n",
    "itmalutils.TestAll()\n",
    "```\n",
    "\n",
    "#### Qa Load and test the `libitmal` module\n",
    "\n",
    "Try out the `libitmal` module from [GITMAL]. Load this module and run the function\n",
    "\n",
    "```python\n",
    "from libitmal import utils as itmalutils\n",
    "itmalutils.TestAll()\n",
    "```\n",
    "from this module.\n",
    "\n",
    "##### Implementation details\n",
    "\n",
    "Note that there is a python module ___include___ search path, that you may have to investigate and modify. For my Linux setup I have an export or declare statement in my .bashrc file, like\n",
    "\n",
    "```bash\n",
    "declare -x PYTHONPATH=~/ASE/ML/itmal:$PYTHONPATH\n",
    "```\n",
    "but your ```itmal```, the [GITMAL] root dir, may be placed elsewhere.\n",
    "\n",
    "For ___Windows___, you have to add `PYTHONPATH` to your user environment variables...see screenshot below (enlarge by modding the image width-tag or find the original png in the Figs directory).\n",
    "\n",
    "<img src=\"https://itundervisning.ase.au.dk/SWMAL/L01/Figs/Screenshot_windows_enviroment_variables.png\" alt=\"WARNING: could not get image from server.\" style=\"height:250px\" style=\"width:350px\">\n",
    "\n",
    "but notice that for this to take effect, you need to restart Anaconda or perhaps even reboot your Windows OS! An alternative, not requiring restart is to use a CMD prompt and the following command under Windows\n",
    "\n",
    "```bash\n",
    "CMD> setx.exe PYTHONPATH \"C:\\Users\\auXXYYZZ\\itmal\"\n",
    "```\n",
    "\n",
    "replacing the username and path with whatever you have. Note that some Windows installations have various security settings enables, so that running `setx.exe` fails. Setting up a MAC should be similar to Linux; just modify your `PYTHONPATH` setting (still to be proven correct?, CEF). \n",
    "\n",
    "\n",
    "If everything fails you could programmatically add your path to the libitmal directory as\n",
    "\n",
    "```python\n",
    "import sys,os\n",
    "sys.path.append(os.path.expanduser('~/itmal'))\n",
    "\n",
    "from libitmal import utils as itmalutils\n",
    "print(dir(itmalutils))\n",
    "print(itmalutils.__file__)\n",
    "```\n",
    "\n",
    "For the journal: remember to document your particular PATH setup."
   ]
  },
  {
   "cell_type": "code",
   "execution_count": 1,
   "metadata": {},
   "outputs": [
    {
     "ename": "ModuleNotFoundError",
     "evalue": "No module named 'libitmal'",
     "output_type": "error",
     "traceback": [
      "\u001b[1;31m---------------------------------------------------------------------------\u001b[0m",
      "\u001b[1;31mModuleNotFoundError\u001b[0m                       Traceback (most recent call last)",
      "Cell \u001b[1;32mIn[1], line 4\u001b[0m\n\u001b[0;32m      1\u001b[0m \u001b[38;5;28;01mimport\u001b[39;00m \u001b[38;5;21;01msys\u001b[39;00m\u001b[38;5;241m,\u001b[39m \u001b[38;5;21;01mos\u001b[39;00m\n\u001b[0;32m      2\u001b[0m sys\u001b[38;5;241m.\u001b[39mpath\u001b[38;5;241m.\u001b[39mappend(os\u001b[38;5;241m.\u001b[39mpath\u001b[38;5;241m.\u001b[39mexpanduser(\u001b[38;5;124m'\u001b[39m\u001b[38;5;124m~/SWMAL_GROUP1\u001b[39m\u001b[38;5;124m'\u001b[39m))\n\u001b[1;32m----> 4\u001b[0m \u001b[38;5;28;01mfrom\u001b[39;00m \u001b[38;5;21;01mlibitmal\u001b[39;00m \u001b[38;5;28;01mimport\u001b[39;00m utils \u001b[38;5;28;01mas\u001b[39;00m itmalutils\n\u001b[0;32m      5\u001b[0m \u001b[38;5;28mprint\u001b[39m(\u001b[38;5;28mdir\u001b[39m(itmalutils))\n\u001b[0;32m      6\u001b[0m \u001b[38;5;28mprint\u001b[39m(itmalutils\u001b[38;5;241m.\u001b[39m\u001b[38;5;18m__file__\u001b[39m)\n",
      "\u001b[1;31mModuleNotFoundError\u001b[0m: No module named 'libitmal'"
     ]
    }
   ],
   "source": [
    "import sys, os\n",
    "sys.path.append(os.path.expanduser('~/SWMAL_GROUP1'))\n",
    "\n",
    "from libitmal import utils as itmalutils\n",
    "print(dir(itmalutils))\n",
    "print(itmalutils.__file__)\n",
    "itmalutils.TestAll()"
   ]
  },
  {
   "cell_type": "markdown",
   "metadata": {},
   "source": [
    "#### Qb Create your own module, with some functions, and test it\n",
    "\n",
    "Now create your own module, with some dummy functionality. Load it and run you dummy function in a Jupyter Notebook.\n",
    "\n",
    "Keep this module at hand, when coding, and try to capture reusable python functions in it as you invent them!\n",
    "\n",
    "For the journal: remember to document your particular library setup (where did you place files, etc)."
   ]
  },
  {
   "cell_type": "code",
   "execution_count": 47,
   "metadata": {},
   "outputs": [
    {
     "name": "stdout",
     "output_type": "stream",
     "text": [
      "this is from utils.py dummy func, now updated\n"
     ]
    }
   ],
   "source": [
    "import mymodule\n",
    "\n",
    "mymodule.dummy_function()"
   ]
  },
  {
   "cell_type": "markdown",
   "metadata": {},
   "source": [
    "#### Qc How do you 'recompile' a module?\n",
    "\n",
    "When changing the module code, Jupyter will keep running on the old module. How do you force the Jupyter notebook to re-load the module changes? \n",
    "\n",
    "NOTE: There is a surprising issue regarding module reloads in Jupyter notebooks both using the browser interface and VSCode (at least with some Notebooks addons). If you use another development framework, like Spyder module reloading works out-of-the-box. "
   ]
  },
  {
   "cell_type": "code",
   "execution_count": 48,
   "metadata": {},
   "outputs": [
    {
     "name": "stdout",
     "output_type": "stream",
     "text": [
      "this is from utils.py dummy func, now updated\n",
      "this is from utils.py dummy func, now updated\n"
     ]
    }
   ],
   "source": [
    "import importlib\n",
    "\n",
    "importlib.reload(mymodule)\n",
    "\n",
    "mymodule.dummy_function()\n",
    "\n",
    "importlib.reload(mymodule.utils)\n",
    "\n",
    "mymodule.dummy_function()"
   ]
  },
  {
   "cell_type": "markdown",
   "metadata": {},
   "source": [
    "#### [OPTIONAL] Qd Write a Howto on Python Modules a Packages\n",
    "\n",
    "Write a short description of how to use modules in Python (notes on modules path, import directives, directory structure, etc.)"
   ]
  },
  {
   "cell_type": "markdown",
   "metadata": {},
   "source": [
    "A module in python is a file containing Python definitions and statements. Therefore it is valueable to be able to import them in order to use their functionality. If you want to include a module that is outside the current folder you are working in the you have to sys append the parent file of the wanted module. Then when you want to use the module just write the name og the module and use .funcname() to call the wanted funtion. \n",
    "\n",
    "When creating a module you can follow a structure in order to help you write good code that is easier to maintain. This struckture follows the structure below:\n",
    "```\n",
    "Your_Module/\n",
    "├── __init__.py\n",
    "├── __pycache__\n",
    "│   ├── __init__.cpython-36.pyc\n",
    "│   └── utils.cpython-36.pyc\n",
    "├── utils.py\n",
    "```\n",
    "\n",
    "This way you only have to import the Your_Module folder and then the init will include the nessesary files"
   ]
  },
  {
   "cell_type": "markdown",
   "metadata": {},
   "source": [
    "### Classes in Python\n",
    "\n",
    "Good news: Python got classes. Bad news: they are somewhat obscure compared to C++ classes. \n",
    "\n",
    "Though we will not use object-oriented programming in Python intensively, we still need some basic understanding of Python classes. Let's just dig into a class-demo, here is `MyClass` in Python\n",
    "\n",
    "```python\n",
    "class MyClass:\n",
    "   \n",
    "    def myfun(self):\n",
    "        self.myvar = \"blah\" # NOTE: a per class-instance variable.\n",
    "        print(f\"This is a message inside the class, myvar={self.myvar}.\")\n",
    "\n",
    "myobjectx = MyClass()\n",
    "```\n",
    "\n",
    "NOTE: The following exercise assumes some C++ knowledge, in particular the OPRG and OOP courses. If you are an EE-student, or from another Faculty, then ignore the cryptic C++ comments, and jump directly to some Python code instead. It's the Python solution here, that is important!\n",
    "\n",
    "#### Qe Extend the class with some public and private functions and member variables\n",
    "\n",
    "How are private function and member variables represented in python classes? \n",
    "\n",
    "What is the meaning of `self` in python classes?\n",
    "\n",
    "What happens to a function inside a class if you forget `self` in the parameter list, like `def myfun():` instead of `def myfun(self):` and you try to call it like `myobjectx.myfun()`? Remember to document the demo code and result.\n",
    "\n",
    "\n",
    "[OPTIONAL] What does 'class' and 'instance variables' in python correspond to in C++? Maybe you can figure it out, I did not really get it reading, say this tutorial\n",
    "\n",
    "> https://www.digitalocean.com/community/tutorials/understanding-class-and-instance-variables-in-python-3"
   ]
  },
  {
   "cell_type": "code",
   "execution_count": 49,
   "metadata": {},
   "outputs": [
    {
     "name": "stdout",
     "output_type": "stream",
     "text": [
      "inside this function i can acces 1 and 2\n",
      "this is the private function and i can access object 1 1\n"
     ]
    },
    {
     "ename": "AttributeError",
     "evalue": "'MyClass' object has no attribute '__myPrivate_func'",
     "output_type": "error",
     "traceback": [
      "\u001b[1;31m---------------------------------------------------------------------------\u001b[0m",
      "\u001b[1;31mAttributeError\u001b[0m                            Traceback (most recent call last)",
      "Cell \u001b[1;32mIn[49], line 12\u001b[0m\n\u001b[0;32m     10\u001b[0m instance \u001b[38;5;241m=\u001b[39m MyClass()\n\u001b[0;32m     11\u001b[0m instance\u001b[38;5;241m.\u001b[39mmyfunc_withself()\n\u001b[1;32m---> 12\u001b[0m instance\u001b[38;5;241m.\u001b[39m__myPrivate_func()\n",
      "\u001b[1;31mAttributeError\u001b[0m: 'MyClass' object has no attribute '__myPrivate_func'"
     ]
    }
   ],
   "source": [
    "class MyClass:\n",
    "    def myfunc_withself(self):\n",
    "        self.object1 = 1\n",
    "        self.object2 = 2\n",
    "        print(f\"inside this function i can acces {self.object1} and {self.object2}\")\n",
    "        self.__myPrivate_func()\n",
    "    def __myPrivate_func(self):\n",
    "        print(f\"this is the private function and i can access object 1 {self.object1}\")\n",
    "    \n",
    "instance = MyClass()\n",
    "instance.myfunc_withself()\n",
    "instance.__myPrivate_func()"
   ]
  },
  {
   "cell_type": "code",
   "execution_count": 29,
   "metadata": {},
   "outputs": [
    {
     "ename": "TypeError",
     "evalue": "MyClass2.myfunc_withoutself() takes 0 positional arguments but 1 was given",
     "output_type": "error",
     "traceback": [
      "\u001b[1;31m---------------------------------------------------------------------------\u001b[0m",
      "\u001b[1;31mTypeError\u001b[0m                                 Traceback (most recent call last)",
      "Cell \u001b[1;32mIn[29], line 9\u001b[0m\n\u001b[0;32m      6\u001b[0m         \u001b[38;5;28mprint\u001b[39m(\u001b[38;5;124mf\u001b[39m\u001b[38;5;124m\"\u001b[39m\u001b[38;5;124minside this function i can acces \u001b[39m\u001b[38;5;132;01m{\u001b[39;00m\u001b[38;5;28mself\u001b[39m\u001b[38;5;241m.\u001b[39mobject1\u001b[38;5;132;01m}\u001b[39;00m\u001b[38;5;124m and \u001b[39m\u001b[38;5;132;01m{\u001b[39;00m\u001b[38;5;28mself\u001b[39m\u001b[38;5;241m.\u001b[39mobject2\u001b[38;5;132;01m}\u001b[39;00m\u001b[38;5;124m\"\u001b[39m)\n\u001b[0;32m      8\u001b[0m instance \u001b[38;5;241m=\u001b[39m MyClass2()\n\u001b[1;32m----> 9\u001b[0m instance\u001b[38;5;241m.\u001b[39mmyfunc_withoutself()\n",
      "\u001b[1;31mTypeError\u001b[0m: MyClass2.myfunc_withoutself() takes 0 positional arguments but 1 was given"
     ]
    }
   ],
   "source": [
    "class MyClass2:\n",
    "    def myfunc_withoutself():\n",
    "        self.object1 = 1\n",
    "        self.object2 = 1\n",
    "\n",
    "        print(f\"inside this function i can acces {self.object1} and {self.object2}\")\n",
    "\n",
    "instance = MyClass2()\n",
    "instance.myfunc_withoutself()"
   ]
  },
  {
   "cell_type": "markdown",
   "metadata": {},
   "source": [
    "When creating a class you can make an init to initialize all the objects of the class. These objects gets stored in the self object and is therefore very important to include when giving the function parameters.\n",
    "\n",
    "If you want to create private functions you can use __ before the name. This means you can only call it from within the class."
   ]
  },
  {
   "cell_type": "markdown",
   "metadata": {},
   "source": [
    "#### Qf Extend the class with a Constructor\n",
    "\n",
    "Figure a way to declare/define a constructor (CTOR) in a python class. How is it done in python?\n",
    "\n",
    "Is there a class destructor in python (DTOR)? Give a textual reason why/why-not python has a DTOR?\n",
    "\n",
    "Hint: python is garbage collection like in C#, and do not go into the details of `__del__, ___enter__, __exit__` functions...unless you find it irresistible to investigate."
   ]
  },
  {
   "cell_type": "markdown",
   "metadata": {},
   "source": [
    "You can add construkturs and destructors in python.\n",
    "\n",
    "To add the constructur you can add a __init__ function where you can give it parameters and create objects within the class.\n",
    "\n",
    "In Python, destructors are not needed as much as in C++ because Python has a garbage collector that handles memory management automatically. But if you really want to do it you can add a __del__ function that will be called when the program ends. But in jupiter notebook it never ends so you can call del object to delete it and call the destructur."
   ]
  },
  {
   "cell_type": "code",
   "execution_count": 34,
   "metadata": {},
   "outputs": [
    {
     "name": "stdout",
     "output_type": "stream",
     "text": [
      "inside this function i can acces object1 and object2\n",
      "this is the private function and i can access object 1 object1\n",
      "the end of class3\n"
     ]
    }
   ],
   "source": [
    "# TODO: Qf...\n",
    "class MyClass3:\n",
    "       def __init__(self, object1 = 'object1', object2 = 'object2'):\n",
    "              self.object1 = object1\n",
    "              self.object2 = object2\n",
    "       def myfunc_withself(self):\n",
    "              print(f\"inside this function i can acces {self.object1} and {self.object2}\")\n",
    "              self.__myPrivate_func()\n",
    "       def __myPrivate_func(self):\n",
    "              print(f\"this is the private function and i can access object 1 {self.object1}\")\n",
    "       def __del__(self):\n",
    "              print(f\"the end of class3\")\n",
    "\n",
    "instance3 = MyClass3()\n",
    "instance3.myfunc_withself()\n",
    "del instance3\n",
    "\n",
    "    \n"
   ]
  },
  {
   "cell_type": "markdown",
   "metadata": {},
   "source": [
    "#### Qg Extend the class with a to-string function\n",
    "\n",
    "Then find a way to serialize a class, that is to make some `tostring()` functionality similar to a C++ \n",
    "\n",
    "```C++\n",
    "friend ostream& operator<<(ostream& s,const MyClass& x)\n",
    "{\n",
    "    return os << ..\n",
    "}\n",
    "```\n",
    "\n",
    "If you do not know C++, you might be aware of the C# way to string serialize\n",
    "```\n",
    "    string s=myobject.tostring()\n",
    "```\n",
    "that is a per-class buildin function `tostring()`, now what is the pythonic way of 'printing' a class instance?"
   ]
  },
  {
   "cell_type": "code",
   "execution_count": 36,
   "metadata": {},
   "outputs": [
    {
     "name": "stdout",
     "output_type": "stream",
     "text": [
      "MyClass with value: 10\n"
     ]
    }
   ],
   "source": [
    "class MyClass4:\n",
    "    def __init__(self, value):\n",
    "        self.value = value\n",
    "    \n",
    "    def __str__(self):\n",
    "        return f\"MyClass with value: {self.value}\"\n",
    "\n",
    "# Usage\n",
    "my_object = MyClass4(10)\n",
    "print(my_object)  # This will call the __str__ method automatically\n"
   ]
  },
  {
   "cell_type": "markdown",
   "metadata": {},
   "source": [
    "#### [OPTIONAL] Qh Write a Howto on Python Classes \n",
    "\n",
    "Write a _How-To use Classes Pythonically_, including a description of public/privacy, constructors/destructors, the meaning of `self`, and inheritance."
   ]
  },
  {
   "cell_type": "markdown",
   "metadata": {},
   "source": [
    "When using classes in python there are a couple of thing you can do. \n",
    "\n",
    "When creating a class you can give it a construktor or an __init __ function that will always be called when the class is initialized. Here you can se variables in the self parameter that you then are able to use thoughout all the functions in the class. \n",
    "\n",
    "When creating a function you always have to add the self parameter to the function. This way you are able to use the objects set in the class. \n",
    "\n",
    "When adding a function you have the choice of it being private or public. If you want to make it private the add __ infront of the function. This mean that you cant use that function from outside the class. \n",
    "\n",
    "You can also add a __del __ function that will act like a destructor and delete the object when the code terminates. \n",
    "\n",
    "You can also add a __str __ function so you are able to print the class object and write the wanted string out."
   ]
  },
  {
   "cell_type": "markdown",
   "metadata": {},
   "source": [
    "## Administration\n",
    "\n",
    "REVISIONS||\n",
    ":- | :- |\n",
    "2018-12-19| CEF, initial.                  \n",
    "2018-02-06| CEF, updated and spell checked. \n",
    "2018-02-07| CEF, made Qh optional.\n",
    "2018-02-08| CEF, added PYTHONPATH for windows.\n",
    "2018-02-12| CEF, small mod in itmalutils/utils.\n",
    "2019-08-20| CEF, E19 ITMAL update.\n",
    "2020-01-25| CEF, F20 ITMAL update.\n",
    "2020-08-06| CEF, E20 ITMAL update, udpated figs paths.\n",
    "2020-09-07| CEF, added text on OPRG and OOP for EE's\n",
    "2020-09-29| CEF, added elaboration for journal in Qa+b.\n",
    "2021-02-06| CEF, fixed itmalutils.TestAll() in markdown cell.\n",
    "2021-08-02| CEF, update to E21 ITMAL.\n",
    "2022-01-25| CEF, update to F22 SWMAL.\n",
    "2022-02-25| CEF, elaborated on setx.exe on Windows and MAC PYTHONPATH.\n",
    "2022-08-30| CEF, updated to v1 changes.\n",
    "2022-09-16| CEF, added comment on module reloading when not using notebooks.\n",
    "2023-08-30| CEF, minor table and text update.\n",
    "2023-09-08| CEF, added not on Anaconda/Windows restart for PYTHON path env.\n",
    "2023-02-18| CEF, elaborated on module reload and VSCode."
   ]
  }
 ],
 "metadata": {
  "kernelspec": {
   "display_name": "base",
   "language": "python",
   "name": "python3"
  },
  "language_info": {
   "codemirror_mode": {
    "name": "ipython",
    "version": 3
   },
   "file_extension": ".py",
   "mimetype": "text/x-python",
   "name": "python",
   "nbconvert_exporter": "python",
   "pygments_lexer": "ipython3",
   "version": "3.12.7"
  },
  "varInspector": {
   "cols": {
    "lenName": 16,
    "lenType": 16,
    "lenVar": 40
   },
   "kernels_config": {
    "python": {
     "delete_cmd_postfix": "",
     "delete_cmd_prefix": "del ",
     "library": "var_list.py",
     "varRefreshCmd": "print(var_dic_list())"
    },
    "r": {
     "delete_cmd_postfix": ") ",
     "delete_cmd_prefix": "rm(",
     "library": "var_list.r",
     "varRefreshCmd": "cat(var_dic_list()) "
    }
   },
   "position": {
    "height": "144.517px",
    "left": "666px",
    "right": "20px",
    "top": "425px",
    "width": "350px"
   },
   "types_to_exclude": [
    "module",
    "function",
    "builtin_function_or_method",
    "instance",
    "_Feature"
   ],
   "window_display": true
  }
 },
 "nbformat": 4,
 "nbformat_minor": 2
}
