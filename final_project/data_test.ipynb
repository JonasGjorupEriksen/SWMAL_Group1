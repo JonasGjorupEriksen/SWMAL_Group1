{
 "cells": [
  {
   "cell_type": "markdown",
   "id": "7a8dc4cd",
   "metadata": {},
   "source": [
    "Denne fil bliver brugt til at analysere og kigge på det datasæt vi har valgt at lave vores endelige projekt i. \n",
    "\n"
   ]
  },
  {
   "cell_type": "code",
   "execution_count": 5,
   "id": "ae83e9e7",
   "metadata": {},
   "outputs": [
    {
     "name": "stdout",
     "output_type": "stream",
     "text": [
      "Warning: Looks like you're using an outdated `kagglehub` version (installed: 0.3.8), please consider upgrading to the latest version (0.3.11).\n",
      "Path to dataset files: C:\\Users\\eriks\\.cache\\kagglehub\\datasets\\dsabljic\\movielens-32m\\versions\\1\n",
      "Indhold i mappen ml-32m:\n",
      "['checksums.txt', 'links.csv', 'movies.csv', 'ratings.csv', 'README.txt', 'tags.csv']\n",
      "Viser de første rækker af filen: links.csv\n",
      "   movieId  imdbId   tmdbId\n",
      "0        1  114709    862.0\n",
      "1        2  113497   8844.0\n",
      "2        3  113228  15602.0\n",
      "3        4  114885  31357.0\n",
      "4        5  113041  11862.0\n"
     ]
    }
   ],
   "source": [
    "import kagglehub\n",
    "import os\n",
    "import pandas as pd\n",
    "\n",
    "# Download latest version\n",
    "path = kagglehub.dataset_download(\"dsabljic/movielens-32m\")\n",
    "print(\"Path to dataset files:\", path)\n",
    "\n",
    "# List subfolder 'ml-32m'\n",
    "dataset_folder = os.path.join(path, \"ml-32m\")\n",
    "print(\"Indhold i mappen ml-32m:\")\n",
    "print(os.listdir(dataset_folder))\n",
    "\n",
    "# Find en csv-fil i mappen\n",
    "csv_files = [f for f in os.listdir(dataset_folder) if f.endswith('.csv')]\n",
    "\n",
    "# Læs første CSV-fil (bare som eksempel)\n",
    "if csv_files:\n",
    "    first_csv = os.path.join(dataset_folder, csv_files[0])\n",
    "    df = pd.read_csv(first_csv)\n",
    "    print(\"Viser de første rækker af filen:\", csv_files[0])\n",
    "    print(df.head())\n",
    "else:\n",
    "    print(\"Ingen CSV-filer fundet i mappen.\")\n"
   ]
  }
 ],
 "metadata": {
  "kernelspec": {
   "display_name": "Python 3",
   "language": "python",
   "name": "python3"
  },
  "language_info": {
   "codemirror_mode": {
    "name": "ipython",
    "version": 3
   },
   "file_extension": ".py",
   "mimetype": "text/x-python",
   "name": "python",
   "nbconvert_exporter": "python",
   "pygments_lexer": "ipython3",
   "version": "3.13.1"
  }
 },
 "nbformat": 4,
 "nbformat_minor": 5
}
